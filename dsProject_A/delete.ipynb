{
 "cells": [
  {
   "cell_type": "code",
   "execution_count": 5,
   "metadata": {},
   "outputs": [],
   "source": [
    "from sklearn.linear_model import LogisticRegression\n",
    "from sklearn.metrics import accuracy_score\n",
    "import pandas as pd\n",
    "import seaborn as sns\n",
    "importantcols = ['TransactionID',\n",
    " 'TransactionDT',\n",
    " 'TransactionAmt',\n",
    " 'card1',\n",
    " 'C1',\n",
    " 'C13',\n",
    " 'C2',\n",
    " 'C14',\n",
    " 'C6',\n",
    " 'C11']\n",
    "\n",
    "importantcolswithFraud = ['TransactionID',\n",
    " 'TransactionDT',\n",
    " 'TransactionAmt',\n",
    " 'card1',\n",
    " 'C1',\n",
    " 'C13',\n",
    " 'C2',\n",
    " 'C14',\n",
    " 'C6',\n",
    " 'C11','isFraud']\n",
    "\n",
    "\n",
    "test_data = pd.read_csv(\"C:/Users/Avery/Documents/GitHub/Regression_proj/dsProject/test_sample.csv\")\n",
    "train_data = pd.read_csv(\"C:/Users/Avery/Documents/GitHub/Regression_proj/dsProject/train_sample.csv\")\n",
    "\n",
    "train_data.fillna(train_data.mean(), inplace=True)\n",
    "test_data.fillna(test_data.mean(), inplace=True)\n",
    "\n",
    "train_data = pd.get_dummies(train_data)\n",
    "test_data = pd.get_dummies(test_data)\n",
    "\n",
    "train_data = train_data[importantcolswithFraud]\n",
    "test_data = test_data[importantcols]\n",
    "\n",
    "\n",
    "X_train = train_data.drop('isFraud', axis=1)\n",
    "y_train = train_data['isFraud']\n",
    "X_test = test_data\n",
    "\n",
    "# Creating a logistic regression model\n",
    "model = LogisticRegression()\n",
    "\n",
    "# Fitting the model on the training data\n",
    "model.fit(X_train, y_train)\n",
    "\n",
    "# Predicting the target variable for the testing data\n",
    "y_pred = model.predict(X_test)\n",
    "\n",
    "test_data['isFraud'] = y_pred\n",
    "\n",
    "test_data[test_data['isFraud'] == 1]\n"
   ]
  },
  {
   "cell_type": "code",
   "execution_count": null,
   "metadata": {},
   "outputs": [],
   "source": []
  },
  {
   "cell_type": "code",
   "execution_count": null,
   "metadata": {},
   "outputs": [],
   "source": []
  },
  {
   "cell_type": "code",
   "execution_count": null,
   "metadata": {},
   "outputs": [],
   "source": []
  }
 ],
 "metadata": {
  "kernelspec": {
   "display_name": "minimal_ds",
   "language": "python",
   "name": "python3"
  },
  "language_info": {
   "codemirror_mode": {
    "name": "ipython",
    "version": 3
   },
   "file_extension": ".py",
   "mimetype": "text/x-python",
   "name": "python",
   "nbconvert_exporter": "python",
   "pygments_lexer": "ipython3",
   "version": "3.9.13"
  },
  "orig_nbformat": 4
 },
 "nbformat": 4,
 "nbformat_minor": 2
}
