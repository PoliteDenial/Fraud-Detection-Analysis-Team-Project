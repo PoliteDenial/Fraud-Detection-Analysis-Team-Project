{
 "cells": [
  {
   "cell_type": "code",
   "execution_count": null,
   "metadata": {
    "collapsed": true
   },
   "outputs": [],
   "source": [
    "import pandas as pd\n",
    "import numpy as np\n",
    "import seaborn as sns\n",
    "import plotly.express as px\n",
    "\n",
    "import plotly.io as pio\n",
    "\n",
    "import plotly.graph_objects as go\n",
    "import plotly.figure_factory as ff\n",
    "\n",
    "import matplotlib.pyplot as plt\n"
   ]
  },
  {
   "cell_type": "code",
   "execution_count": null,
   "metadata": {},
   "outputs": [],
   "source": [
    "Avery_Dir = \"C:/Users/Avery/Desktop/Applied_Regression/Datasets for reg/\""
   ]
  },
  {
   "cell_type": "code",
   "execution_count": null,
   "metadata": {},
   "outputs": [],
   "source": []
  },
  {
   "cell_type": "code",
   "execution_count": null,
   "metadata": {},
   "outputs": [],
   "source": [
    "train_ident = pd.read_csv(Avery_Dir + 'train_identity.csv')\n",
    "test_ident = pd.read_csv(Avery_Dir + 'test_identity.csv')\n",
    "train_transaction = pd.read_csv(Avery_Dir + 'train_transaction.csv')\n",
    "test_transaction = pd.read_csv(Avery_Dir + 'test_transaction.csv')"
   ]
  },
  {
   "cell_type": "code",
   "execution_count": null,
   "metadata": {
    "collapsed": false
   },
   "outputs": [],
   "source": [
    "train = train_transaction.merge(train_ident, on='TransactionID', how='left')\n",
    "test = test_transaction.merge(test_ident, on='TransactionID', how='left')"
   ]
  },
  {
   "cell_type": "code",
   "execution_count": null,
   "metadata": {
    "collapsed": false
   },
   "outputs": [],
   "source": [
    "# Sampling 10% of the data to run our analysis on\n",
    "\n",
    "\n",
    "train_sample = train.sample(frac = 0.1)\n",
    "test_sample = test.sample(frac = 0.1)"
   ]
  },
  {
   "attachments": {},
   "cell_type": "markdown",
   "metadata": {},
   "source": [
    "isFraud is the response variable"
   ]
  },
  {
   "cell_type": "code",
   "execution_count": null,
   "metadata": {
    "collapsed": false
   },
   "outputs": [],
   "source": [
    "train_corr = train_sample.corr()"
   ]
  },
  {
   "cell_type": "code",
   "execution_count": null,
   "metadata": {},
   "outputs": [],
   "source": [
    "# Extract the correlations as a DataFrame\n",
    "abscorr = train_corr.abs()\n",
    "\n",
    "# Filter the DataFrame to show only correlations greater than 0.7 and not equal to 1\n",
    "high_corr = abscorr[(abscorr > 0.7) & (abscorr != 1)]\n",
    "\n",
    "# Print the high correlation pairs\n",
    "high_corr_dict = (high_corr.stack().drop_duplicates()).to_dict()\n",
    "\n",
    "high_corr_dict.keys()"
   ]
  },
  {
   "cell_type": "code",
   "execution_count": 95,
   "metadata": {},
   "outputs": [
    {
     "data": {
      "text/plain": [
       "{('C1', 'C2'): 0.9950612404785557,\n",
       " ('C1', 'C4'): 0.9691772179759732,\n",
       " ('C1', 'C6'): 0.9827939011239848,\n",
       " ('C1', 'C7'): 0.9320052686178365,\n",
       " ('C1', 'C8'): 0.9698928086033274,\n",
       " ('C1', 'C10'): 0.9614573471502837,\n",
       " ('C1', 'C11'): 0.9968396588843726,\n",
       " ('C1', 'C12'): 0.9333673010512155,\n",
       " ('C1', 'C13'): 0.7751761475236726,\n",
       " ('C1', 'C14'): 0.9522440681910592}"
      ]
     },
     "execution_count": 95,
     "metadata": {},
     "output_type": "execute_result"
    }
   ],
   "source": [
    "corrs = {k:v for k, v in high_corr_dict.items() if 'C1' in k}\n",
    "corrs\n"
   ]
  }
 ],
 "metadata": {
  "kernelspec": {
   "display_name": "Python 3",
   "language": "python",
   "name": "python3"
  },
  "language_info": {
   "codemirror_mode": {
    "name": "ipython",
    "version": 3
   },
   "file_extension": ".py",
   "mimetype": "text/x-python",
   "name": "python",
   "nbconvert_exporter": "python",
   "pygments_lexer": "ipython3",
   "version": "3.9.13"
  }
 },
 "nbformat": 4,
 "nbformat_minor": 0
}
