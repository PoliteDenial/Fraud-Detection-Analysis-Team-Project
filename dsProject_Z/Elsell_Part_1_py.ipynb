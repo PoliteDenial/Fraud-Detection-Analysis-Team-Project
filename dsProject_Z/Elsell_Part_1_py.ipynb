{
 "cells": [
  {
   "attachments": {},
   "cell_type": "markdown",
   "metadata": {
    "tags": []
   },
   "source": [
    "<font size= 3, style=\"text-align:justify\">\n",
    "\n",
    "Zain Elsell & Avery Fulton\\\n",
    "March 17, 2023\\\n",
    "Applied Regression \n",
    "\n",
    "<p style=\"text-align: center;\">Fraud Detection Paper 1</p>\n",
    "\n",
    "&nbsp;&nbsp;&nbsp;&nbsp;&nbsp;&nbsp;As stated in our project proposal our goal is to try to create a logistic regression fraud detection algorithm from the IEEE fraud-detection data set located on Kagel. The primary objectives of this paper are to analyze the response variable in both problem and mathematical contexts, evaluate potential predictor variables, identify and address inconsistencies or outliers, establish confidence intervals for some predictor variables, and determine high correlation coefficients between them.    \n",
    "&nbsp;&nbsp;&nbsp;&nbsp;&nbsp;&nbsp;We can begin this project by first importing the required dependencies that we are going through and then performing some, rudimentary data wrangling. Initially, what we are doing is importing the data for the train and test sets that were given to us then merging the identity data with the transaction data for both our train and test sets on the TransactionID column so we can use only two .csv documents as opposed to the given four. The next step in the wrangling process is taking a consistent sample of 10% of the given data; the primary motivation behind this choice was to reduce the compute time for a select few and manipulations operations, as the initial data set contains 590,540 data points and 434 possible features. Note that we will run the created model on the overall data set to consistently represent the performance in the context of a larger sample. \n",
    "    \n",
    "\n",
    "    \n",
    " </font>"
   ]
  },
  {
   "cell_type": "code",
   "execution_count": 4,
   "metadata": {},
   "outputs": [],
   "source": [
    "import pandas as pd\n",
    "import numpy as np\n",
    "import seaborn as sns\n",
    "import matplotlib.pyplot as plt\n",
    "from matplotlib.axis import Axis\n",
    "import scipy.stats as sci\n",
    "import sys, os\n",
    "from sys import platform"
   ]
  },
  {
   "cell_type": "code",
   "execution_count": 9,
   "metadata": {
    "tags": []
   },
   "outputs": [
    {
     "ename": "KeyboardInterrupt",
     "evalue": "",
     "output_type": "error",
     "traceback": [
      "\u001b[1;31m---------------------------------------------------------------------------\u001b[0m",
      "\u001b[1;31mKeyboardInterrupt\u001b[0m                         Traceback (most recent call last)",
      "\u001b[1;32m<ipython-input-9-83421b48824d>\u001b[0m in \u001b[0;36m<module>\u001b[1;34m\u001b[0m\n\u001b[0;32m     25\u001b[0m     \u001b[0mtrain_ident\u001b[0m \u001b[1;33m=\u001b[0m \u001b[0mpd\u001b[0m\u001b[1;33m.\u001b[0m\u001b[0mread_csv\u001b[0m\u001b[1;33m(\u001b[0m\u001b[0mdata_path\u001b[0m \u001b[1;33m+\u001b[0m \u001b[1;34m'train_identity.csv'\u001b[0m\u001b[1;33m)\u001b[0m\u001b[1;33m\u001b[0m\u001b[1;33m\u001b[0m\u001b[0m\n\u001b[0;32m     26\u001b[0m     \u001b[0mtest_ident\u001b[0m \u001b[1;33m=\u001b[0m \u001b[0mpd\u001b[0m\u001b[1;33m.\u001b[0m\u001b[0mread_csv\u001b[0m\u001b[1;33m(\u001b[0m\u001b[0mdata_path\u001b[0m \u001b[1;33m+\u001b[0m \u001b[1;34m'test_identity.csv'\u001b[0m\u001b[1;33m)\u001b[0m\u001b[1;33m\u001b[0m\u001b[1;33m\u001b[0m\u001b[0m\n\u001b[1;32m---> 27\u001b[1;33m     \u001b[0mtrain_transaction\u001b[0m \u001b[1;33m=\u001b[0m \u001b[0mpd\u001b[0m\u001b[1;33m.\u001b[0m\u001b[0mread_csv\u001b[0m\u001b[1;33m(\u001b[0m\u001b[0mdata_path\u001b[0m \u001b[1;33m+\u001b[0m \u001b[1;34m'train_transaction.csv'\u001b[0m\u001b[1;33m)\u001b[0m\u001b[1;33m\u001b[0m\u001b[1;33m\u001b[0m\u001b[0m\n\u001b[0m\u001b[0;32m     28\u001b[0m     \u001b[0mtest_transaction\u001b[0m \u001b[1;33m=\u001b[0m \u001b[0mpd\u001b[0m\u001b[1;33m.\u001b[0m\u001b[0mread_csv\u001b[0m\u001b[1;33m(\u001b[0m\u001b[0mdata_path\u001b[0m \u001b[1;33m+\u001b[0m \u001b[1;34m'test_transaction.csv'\u001b[0m\u001b[1;33m)\u001b[0m\u001b[1;33m\u001b[0m\u001b[1;33m\u001b[0m\u001b[0m\n\u001b[0;32m     29\u001b[0m     \u001b[1;31m#Merging our 4 data sets into 2:\u001b[0m\u001b[1;33m\u001b[0m\u001b[1;33m\u001b[0m\u001b[1;33m\u001b[0m\u001b[0m\n",
      "\u001b[1;32mc:\\Users\\zaine\\Anaconda3\\lib\\site-packages\\pandas\\io\\parsers.py\u001b[0m in \u001b[0;36mread_csv\u001b[1;34m(filepath_or_buffer, sep, delimiter, header, names, index_col, usecols, squeeze, prefix, mangle_dupe_cols, dtype, engine, converters, true_values, false_values, skipinitialspace, skiprows, skipfooter, nrows, na_values, keep_default_na, na_filter, verbose, skip_blank_lines, parse_dates, infer_datetime_format, keep_date_col, date_parser, dayfirst, cache_dates, iterator, chunksize, compression, thousands, decimal, lineterminator, quotechar, quoting, doublequote, escapechar, comment, encoding, dialect, error_bad_lines, warn_bad_lines, delim_whitespace, low_memory, memory_map, float_precision, storage_options)\u001b[0m\n\u001b[0;32m    608\u001b[0m     \u001b[0mkwds\u001b[0m\u001b[1;33m.\u001b[0m\u001b[0mupdate\u001b[0m\u001b[1;33m(\u001b[0m\u001b[0mkwds_defaults\u001b[0m\u001b[1;33m)\u001b[0m\u001b[1;33m\u001b[0m\u001b[1;33m\u001b[0m\u001b[0m\n\u001b[0;32m    609\u001b[0m \u001b[1;33m\u001b[0m\u001b[0m\n\u001b[1;32m--> 610\u001b[1;33m     \u001b[1;32mreturn\u001b[0m \u001b[0m_read\u001b[0m\u001b[1;33m(\u001b[0m\u001b[0mfilepath_or_buffer\u001b[0m\u001b[1;33m,\u001b[0m \u001b[0mkwds\u001b[0m\u001b[1;33m)\u001b[0m\u001b[1;33m\u001b[0m\u001b[1;33m\u001b[0m\u001b[0m\n\u001b[0m\u001b[0;32m    611\u001b[0m \u001b[1;33m\u001b[0m\u001b[0m\n\u001b[0;32m    612\u001b[0m \u001b[1;33m\u001b[0m\u001b[0m\n",
      "\u001b[1;32mc:\\Users\\zaine\\Anaconda3\\lib\\site-packages\\pandas\\io\\parsers.py\u001b[0m in \u001b[0;36m_read\u001b[1;34m(filepath_or_buffer, kwds)\u001b[0m\n\u001b[0;32m    466\u001b[0m \u001b[1;33m\u001b[0m\u001b[0m\n\u001b[0;32m    467\u001b[0m     \u001b[1;32mwith\u001b[0m \u001b[0mparser\u001b[0m\u001b[1;33m:\u001b[0m\u001b[1;33m\u001b[0m\u001b[1;33m\u001b[0m\u001b[0m\n\u001b[1;32m--> 468\u001b[1;33m         \u001b[1;32mreturn\u001b[0m \u001b[0mparser\u001b[0m\u001b[1;33m.\u001b[0m\u001b[0mread\u001b[0m\u001b[1;33m(\u001b[0m\u001b[0mnrows\u001b[0m\u001b[1;33m)\u001b[0m\u001b[1;33m\u001b[0m\u001b[1;33m\u001b[0m\u001b[0m\n\u001b[0m\u001b[0;32m    469\u001b[0m \u001b[1;33m\u001b[0m\u001b[0m\n\u001b[0;32m    470\u001b[0m \u001b[1;33m\u001b[0m\u001b[0m\n",
      "\u001b[1;32mc:\\Users\\zaine\\Anaconda3\\lib\\site-packages\\pandas\\io\\parsers.py\u001b[0m in \u001b[0;36mread\u001b[1;34m(self, nrows)\u001b[0m\n\u001b[0;32m   1055\u001b[0m     \u001b[1;32mdef\u001b[0m \u001b[0mread\u001b[0m\u001b[1;33m(\u001b[0m\u001b[0mself\u001b[0m\u001b[1;33m,\u001b[0m \u001b[0mnrows\u001b[0m\u001b[1;33m=\u001b[0m\u001b[1;32mNone\u001b[0m\u001b[1;33m)\u001b[0m\u001b[1;33m:\u001b[0m\u001b[1;33m\u001b[0m\u001b[1;33m\u001b[0m\u001b[0m\n\u001b[0;32m   1056\u001b[0m         \u001b[0mnrows\u001b[0m \u001b[1;33m=\u001b[0m \u001b[0mvalidate_integer\u001b[0m\u001b[1;33m(\u001b[0m\u001b[1;34m\"nrows\"\u001b[0m\u001b[1;33m,\u001b[0m \u001b[0mnrows\u001b[0m\u001b[1;33m)\u001b[0m\u001b[1;33m\u001b[0m\u001b[1;33m\u001b[0m\u001b[0m\n\u001b[1;32m-> 1057\u001b[1;33m         \u001b[0mindex\u001b[0m\u001b[1;33m,\u001b[0m \u001b[0mcolumns\u001b[0m\u001b[1;33m,\u001b[0m \u001b[0mcol_dict\u001b[0m \u001b[1;33m=\u001b[0m \u001b[0mself\u001b[0m\u001b[1;33m.\u001b[0m\u001b[0m_engine\u001b[0m\u001b[1;33m.\u001b[0m\u001b[0mread\u001b[0m\u001b[1;33m(\u001b[0m\u001b[0mnrows\u001b[0m\u001b[1;33m)\u001b[0m\u001b[1;33m\u001b[0m\u001b[1;33m\u001b[0m\u001b[0m\n\u001b[0m\u001b[0;32m   1058\u001b[0m \u001b[1;33m\u001b[0m\u001b[0m\n\u001b[0;32m   1059\u001b[0m         \u001b[1;32mif\u001b[0m \u001b[0mindex\u001b[0m \u001b[1;32mis\u001b[0m \u001b[1;32mNone\u001b[0m\u001b[1;33m:\u001b[0m\u001b[1;33m\u001b[0m\u001b[1;33m\u001b[0m\u001b[0m\n",
      "\u001b[1;32mc:\\Users\\zaine\\Anaconda3\\lib\\site-packages\\pandas\\io\\parsers.py\u001b[0m in \u001b[0;36mread\u001b[1;34m(self, nrows)\u001b[0m\n\u001b[0;32m   2059\u001b[0m     \u001b[1;32mdef\u001b[0m \u001b[0mread\u001b[0m\u001b[1;33m(\u001b[0m\u001b[0mself\u001b[0m\u001b[1;33m,\u001b[0m \u001b[0mnrows\u001b[0m\u001b[1;33m=\u001b[0m\u001b[1;32mNone\u001b[0m\u001b[1;33m)\u001b[0m\u001b[1;33m:\u001b[0m\u001b[1;33m\u001b[0m\u001b[1;33m\u001b[0m\u001b[0m\n\u001b[0;32m   2060\u001b[0m         \u001b[1;32mtry\u001b[0m\u001b[1;33m:\u001b[0m\u001b[1;33m\u001b[0m\u001b[1;33m\u001b[0m\u001b[0m\n\u001b[1;32m-> 2061\u001b[1;33m             \u001b[0mdata\u001b[0m \u001b[1;33m=\u001b[0m \u001b[0mself\u001b[0m\u001b[1;33m.\u001b[0m\u001b[0m_reader\u001b[0m\u001b[1;33m.\u001b[0m\u001b[0mread\u001b[0m\u001b[1;33m(\u001b[0m\u001b[0mnrows\u001b[0m\u001b[1;33m)\u001b[0m\u001b[1;33m\u001b[0m\u001b[1;33m\u001b[0m\u001b[0m\n\u001b[0m\u001b[0;32m   2062\u001b[0m         \u001b[1;32mexcept\u001b[0m \u001b[0mStopIteration\u001b[0m\u001b[1;33m:\u001b[0m\u001b[1;33m\u001b[0m\u001b[1;33m\u001b[0m\u001b[0m\n\u001b[0;32m   2063\u001b[0m             \u001b[1;32mif\u001b[0m \u001b[0mself\u001b[0m\u001b[1;33m.\u001b[0m\u001b[0m_first_chunk\u001b[0m\u001b[1;33m:\u001b[0m\u001b[1;33m\u001b[0m\u001b[1;33m\u001b[0m\u001b[0m\n",
      "\u001b[1;32mpandas\\_libs\\parsers.pyx\u001b[0m in \u001b[0;36mpandas._libs.parsers.TextReader.read\u001b[1;34m()\u001b[0m\n",
      "\u001b[1;32mpandas\\_libs\\parsers.pyx\u001b[0m in \u001b[0;36mpandas._libs.parsers.TextReader._read_low_memory\u001b[1;34m()\u001b[0m\n",
      "\u001b[1;32mpandas\\_libs\\parsers.pyx\u001b[0m in \u001b[0;36mpandas._libs.parsers.TextReader._read_rows\u001b[1;34m()\u001b[0m\n",
      "\u001b[1;32mpandas\\_libs\\parsers.pyx\u001b[0m in \u001b[0;36mpandas._libs.parsers.TextReader._convert_column_data\u001b[1;34m()\u001b[0m\n",
      "\u001b[1;32mc:\\Users\\zaine\\Anaconda3\\lib\\site-packages\\pandas\\core\\dtypes\\common.py\u001b[0m in \u001b[0;36mis_extension_array_dtype\u001b[1;34m(arr_or_dtype)\u001b[0m\n\u001b[0;32m   1468\u001b[0m \u001b[1;33m\u001b[0m\u001b[0m\n\u001b[0;32m   1469\u001b[0m \u001b[1;33m\u001b[0m\u001b[0m\n\u001b[1;32m-> 1470\u001b[1;33m \u001b[1;32mdef\u001b[0m \u001b[0mis_extension_array_dtype\u001b[0m\u001b[1;33m(\u001b[0m\u001b[0marr_or_dtype\u001b[0m\u001b[1;33m)\u001b[0m \u001b[1;33m->\u001b[0m \u001b[0mbool\u001b[0m\u001b[1;33m:\u001b[0m\u001b[1;33m\u001b[0m\u001b[1;33m\u001b[0m\u001b[0m\n\u001b[0m\u001b[0;32m   1471\u001b[0m     \"\"\"\n\u001b[0;32m   1472\u001b[0m     \u001b[0mCheck\u001b[0m \u001b[1;32mif\u001b[0m \u001b[0man\u001b[0m \u001b[0mobject\u001b[0m \u001b[1;32mis\u001b[0m \u001b[0ma\u001b[0m \u001b[0mpandas\u001b[0m \u001b[0mextension\u001b[0m \u001b[0marray\u001b[0m \u001b[0mtype\u001b[0m\u001b[1;33m.\u001b[0m\u001b[1;33m\u001b[0m\u001b[1;33m\u001b[0m\u001b[0m\n",
      "\u001b[1;31mKeyboardInterrupt\u001b[0m: "
     ]
    }
   ],
   "source": [
    "#all of the stuff this doing is litearlly just making everything cross compatiable depending on who and what system they are working on along wiht data wrangling\n",
    "\n",
    "RED   = \"\\033[1;31m\"  \n",
    "BLUE  = \"\\033[1;34m\"\n",
    "RESET = \"\\033[0;0m\"\n",
    "BOLD    = \"\\033[;1m\"\n",
    "REVERSE = \"\\033[;7m\"\n",
    "\n",
    "np.random.seed(120)\n",
    "\n",
    "#setting path  \n",
    "if platform == \"win32\" and os.getlogin() == 'zaine':\n",
    "    data_path = 'C:/Users/zaine/OneDrive/Desktop/School/STAT/Reg_Proj/ieee-fraud-detection/'\n",
    "    ScaleData = 0\n",
    "elif platform == \"win32\" and os.getlogin() == 'Avery':\n",
    "    data_path = \"C:/Users/Avery/Desktop/Applied_Regression/Datasets for reg/\"\n",
    "    ScaleData = 1\n",
    "elif platform == \"darwin\":\n",
    "    data_path = \"/Users/zain/Desktop/School/Reg_Proj/ieee-fraud-detection/\"\n",
    "    ScaleData = 2\n",
    "    \n",
    "\n",
    "#a bunch of logic related to what system we are on\n",
    "if(ScaleData == 0):\n",
    "    train_ident = pd.read_csv(data_path + 'train_identity.csv')\n",
    "    test_ident = pd.read_csv(data_path + 'test_identity.csv')\n",
    "    train_transaction = pd.read_csv(data_path + 'train_transaction.csv')\n",
    "    test_transaction = pd.read_csv(data_path + 'test_transaction.csv')\n",
    "    #Merging our 4 data sets into 2:\n",
    "    train = train_transaction.merge(train_ident, on='TransactionID', how='left')\n",
    "    test = test_transaction.merge(test_ident, on='TransactionID', how='left')\n",
    "    \n",
    "    cur_working = os.path.dirname(os.getcwd()) \n",
    "    fptrain = str(cur_working) + \"\\dsProject\\\\train_sample.csv\"\n",
    "    fptest = str(cur_working) + \"\\dsProject\\\\test_sample.csv\"\n",
    "    train_sample = pd.read_csv(fptrain)\n",
    "    test_sample = pd.read_csv(fptest)\n",
    "elif(ScaleData == 1):\n",
    "    cur_working = os.path.dirname(os.getcwd()) \n",
    "    train = pd.read_csv(data_path + \"/train_sample.csv\") #make this exact path to the csv\n",
    "    test = pd.read_csv(data_path + \"/test_sample.csv\") #make this exact path to the csv\n",
    "    cur_working = os.path.dirname(os.getcwd()) \n",
    "    fptrain = str(cur_working) + \"\\dsProject\\\\train_sample.csv\"\n",
    "    fptest = str(cur_working) + \"\\dsProject\\\\test_sample.csv\"\n",
    "    train_sample = pd.read_csv(fptrain)\n",
    "    test_sample = pd.read_csv(fptest)\n",
    "elif(ScaleData == 2):\n",
    "    train = pd.read_csv(data_path + \"/train_sample.csv\")\n",
    "    test = pd.read_csv(data_path + \"/test_sample.csv\")\n",
    "    train_sample = pd.read_csv(data_path + \"/train_sample.csv\")\n",
    "    test_sample = pd.read_csv(data_path + \"/train_sample.csv\")\n",
    "else:\n",
    "    sys.stdout.write(RED)\n",
    "    error_code= input(\"Error: Data path not found do you want to regenearte the train and test sets in the current working directory?[y/n]: \")\n",
    "    if error_code == 'y':\n",
    "        print(\"Warning: Data path not found regenerating data in current script working directory!\")\n",
    "        sys.stdout.write(RESET)\n",
    "        print(\"\\n==============================================================\")\n",
    "        train_ident = pd.read_csv(data_path + 'train_identity.csv')\n",
    "        test_ident = pd.read_csv(data_path + 'test_identity.csv')\n",
    "        train_transaction = pd.read_csv(data_path + 'train_transaction.csv')\n",
    "        test_transaction = pd.read_csv(data_path + 'test_transaction.csv')\n",
    "        #Merging our 4 data sets into 2:\n",
    "        print(\"Merging Data\")\n",
    "        train = train_transaction.merge(train_ident, on='TransactionID', how='left')\n",
    "        test = test_transaction.merge(test_ident, on='TransactionID', how='left')\n",
    "        print(\"Sampling Data\")\n",
    "        train_sample = train.sample(frac = 0.1, random_state = 120)\n",
    "        test_sample = test.sample(frac = 0.1, random_state=120)\n",
    "        cur_working = os.path.dirname(os.getcwd()) \n",
    "        print(\"Exporting Data To Git Path:\"+ str(cur_working))\n",
    "        if platform == 'darwin':\n",
    "            fptrain = str(cur_working) + \"/dsProject/train_sample.csv\"\n",
    "            fptest = str(cur_working) + \"/dsProject/test_sample.csv\"\n",
    "        else:\n",
    "            fptrain = str(cur_working) + \"\\dsProject\\\\train_sample.csv\"\n",
    "            fptest = str(cur_working) + \"\\dsProject\\\\test_sample.csv\"\n",
    "        print(\"Generating csvs @:\\n\" + fptrain+\"\\n\"+ fptest )\n",
    "        train_sample.to_csv(fptrain)\n",
    "        test_sample.to_csv(fptest)\n",
    "        print(\"Setting Pandas Objects at above csv directories\")\n",
    "        train = pd.read_csv(fptrain)\n",
    "        test = pd.read_csv(fptest)\n",
    "        sys.stdout.write(BLUE)\n",
    "        print(\"\\n Process Complete\")\n",
    "        sys.stdout.write(RESET)\n",
    "        print(\"==============================================================\")\n",
    "    elif error_code == 'n':\n",
    "        print(\"Fatal Error Rerun Chunk\")\n",
    "    else:\n",
    "        sys.exit(0)\n",
    "        \n",
    "        "
   ]
  },
  {
   "cell_type": "code",
   "execution_count": 6,
   "metadata": {},
   "outputs": [
    {
     "name": "stdout",
     "output_type": "stream",
     "text": [
      "0.03499000914417313\n",
      "0.035213\n",
      "3.4923631e-05\n"
     ]
    },
    {
     "data": {
      "image/png": "[encoded data removed]",
      "text/plain": [
       "<Figure size 432x288 with 1 Axes>"
      ]
     },
     "metadata": {
      "needs_background": "light"
     },
     "output_type": "display_data"
    }
   ],
   "source": [
    "propFraud = train['isFraud'].mean()\n",
    "print(propFraud)\n",
    "\n",
    "#constructing a sampling distribution.\n",
    "p = propFraud\n",
    "n = 1000 \n",
    "#gen 1k samples of size 1000\n",
    "samples = np.random.binomial(n,p, 1000)\n",
    "sample_props = samples/n\n",
    "\n",
    "plt.hist(sample_props, bins=50, density=True, alpha=0.5, label='Sampling Distribution')\n",
    "mu = np.mean(sample_props)\n",
    "print(mu)\n",
    "var = np.var(sample_props)\n",
    "print(var)\n",
    "sigma = np.std(sample_props)\n",
    "\n",
    "x = np.linspace(0, 0.28, 1000)\n",
    "norm = sci.norm.pdf(x, loc=mu, scale=sigma)\n",
    "plt.axis([0, .06, 0, 120])\n",
    "plt.axvline(x=mu, color='r')\n",
    "plt.plot(x, norm, label='Normal Distribution')\n",
    "plt.xlabel('Proportion')\n",
    "plt.ylabel('Density')\n",
    "plt.title('Sampling Distribution Of Is Fraud')\n",
    "plt.legend()\n",
    "plt.show()"
   ]
  },
  {
   "attachments": {},
   "cell_type": "markdown",
   "metadata": {},
   "source": [
    "<font size= 3, style=\"text-align:justify\">\n",
    "     \n",
    "$$\\text{Let } F := \\text{A transaction is fraudelent}$$\n",
    "\n",
    "&nbsp;&nbsp;&nbsp;&nbsp;&nbsp;&nbsp;Our response varaible is the value of the \"isFraud\" within the data set, in order to find the distribution of our response varaible we first calculated the proportion of fraudelent transactions to non fraudlent ones which a approximate value of 3.499%, we then construct a sampling distribution using a binomial random variable using the previously calculated proportion, and then finally ploted the randomly generated samples and compare it to a normal distribution centered at the mean of sampled proporitions, with standard deviation. Comparing the simulated values to the normal distribution then gives the final result that, $F \\sim\\text{Normal}(\\mu = 0.35213, \\sigma^2 = 3.4923631 \\cdot 10^{-5})$ (using the large data set) by the central limit theorm. Some of the clear implications of finding is that likelyhood of fraud is not common outcome of a transaction. Reflecting from the the finicial sector context this is plausible the overall proporition of fraudelent transactions, is signicantly lower then the proporition authorized ones. \n",
    " \n",
    " </font>"
   ]
  },
  {
   "cell_type": "code",
   "execution_count": 7,
   "metadata": {
    "collapsed": false,
    "jupyter": {
     "outputs_hidden": false
    }
   },
   "outputs": [],
   "source": [
    "train_corr = train_sample.corr()"
   ]
  },
  {
   "cell_type": "code",
   "execution_count": 8,
   "metadata": {},
   "outputs": [
    {
     "data": {
      "text/plain": [
       "{('C1', 'C2'): 0.9960255814335263,\n",
       " ('C1', 'C4'): 0.9720331304828849,\n",
       " ('C1', 'C6'): 0.9837587217717109,\n",
       " ('C1', 'C7'): 0.9379304598092051,\n",
       " ('C1', 'C8'): 0.9726319845008362,\n",
       " ('C1', 'C10'): 0.9649521721724863,\n",
       " ('C1', 'C11'): 0.9970126813477574,\n",
       " ('C1', 'C12'): 0.9393597650111772,\n",
       " ('C1', 'C13'): 0.7926063809278694,\n",
       " ('C1', 'C14'): 0.9559284351187977}"
      ]
     },
     "execution_count": 8,
     "metadata": {},
     "output_type": "execute_result"
    }
   ],
   "source": [
    "# Extract the correlations as a DataFrame\n",
    "abscorr = train_corr.abs()\n",
    "# Filter the DataFrame to show only correlations greater than 0.7 and not equal to 1\n",
    "high_corr = abscorr[(abscorr > 0.7) & (abscorr != 1)]\n",
    "# Print the high correlation pairs\n",
    "high_corr_dict = (high_corr.stack().drop_duplicates()).to_dict()\n",
    "#high_corr_dict.keys()\n",
    "corrs = {k:v for k, v in high_corr_dict.items() if 'C1' in k}\n",
    "corrs"
   ]
  }
 ],
 "metadata": {
  "kernelspec": {
   "display_name": "Python 3 (ipykernel)",
   "language": "python",
   "name": "python3"
  },
  "language_info": {
   "codemirror_mode": {
    "name": "ipython",
    "version": 3
   },
   "file_extension": ".py",
   "mimetype": "text/x-python",
   "name": "python",
   "nbconvert_exporter": "python",
   "pygments_lexer": "ipython3",
   "version": "3.8.8"
  }
 },
 "nbformat": 4,
 "nbformat_minor": 4
}
