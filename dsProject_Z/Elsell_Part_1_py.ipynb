{
 "cells": [
  {
   "attachments": {},
   "cell_type": "markdown",
   "metadata": {
    "tags": []
   },
   "source": [
    "<font size= 3, style=\"text-align:justify\">\n",
    "\n",
    "Zain Elsell & Avery Fulton\\\n",
    "March 17, 2023\\\n",
    "Applied Regression \n",
    "\n",
    "<p style=\"text-align: center;\">Fraud Detection Paper 1</p>\n",
    "\n",
    "&nbsp;&nbsp;&nbsp;&nbsp;&nbsp;&nbsp;As stated in our project proposal our goal is to try to create a logistic regression fraud detection algorithm from the IEEE fraud-detection data set located on Kagel. The primary objectives of this paper are to analyze the response variable in both problem and mathematical contexts, evaluate potential predictor variables, identify and address inconsistencies or outliers, establish confidence intervals for some predictor variables, and determine high correlation coefficients between them.    \n",
    "&nbsp;&nbsp;&nbsp;&nbsp;&nbsp;&nbsp;We can begin this project by first importing the required dependencies that we are going through and then performing some, rudimentary data wrangling. Initially, what we are doing is importing the data for the train and test sets that were given to us then merging the identity data with the transaction data for both our train and test sets on the TransactionID column so we can use only two .csv documents as opposed to the given four. The next step in the wrangling process is taking a consistent sample of 10% of the given data; the primary motivation behind this choice was to reduce the compute time for a select few and manipulations operations, as the initial data set contains 590,540 data points and 434 possible features. Note that we will run the created model on the overall data set to consistently represent the performance in the context of a larger sample. \n",
    "    \n",
    "\n",
    "    \n",
    " </font>"
   ]
  },
  {
   "cell_type": "code",
   "execution_count": 25,
   "metadata": {},
   "outputs": [],
   "source": [
    "import pandas as pd\n",
    "import numpy as np\n",
    "import seaborn as sns\n",
    "import matplotlib.pyplot as plt\n",
    "from matplotlib.axis import Axis\n",
    "import scipy.stats as sci\n",
    "from sys import platform\n",
    "import os"
   ]
  },
  {
   "cell_type": "code",
   "execution_count": 3,
   "metadata": {
    "tags": []
   },
   "outputs": [],
   "source": [
    "\n",
    "#setting path  \n",
    "if platform == \"win32\" and os.getlogin() == 'zaine':\n",
    "    data_path = 'C:/Users/zaine/OneDrive/Desktop/School/STAT/Reg_Proj/ieee-fraud-detection/'\n",
    "elif platform == \"win32\" and os.getlogin() == 'Avery':\n",
    "    data_path = \"C:/Users/Avery/Desktop/Applied_Regression/Datasets for reg/\"\n",
    "elif platform == \"darwin\":\n",
    "    data_path = \"~/Desktop/School/Reg_Proj/ieee-fraud-detection/\""
   ]
  },
  {
   "cell_type": "code",
   "execution_count": 4,
   "metadata": {},
   "outputs": [],
   "source": [
    "#importing data\n",
    "\n",
    "train_ident = pd.read_csv(data_path + 'train_identity.csv')\n",
    "test_ident = pd.read_csv(data_path + 'test_identity.csv')\n",
    "train_transaction = pd.read_csv(data_path + 'train_transaction.csv')\n",
    "test_transaction = pd.read_csv(data_path + 'test_transaction.csv')\n",
    "\n",
    "#Merging our 4 data sets into 2:\n",
    "train = train_transaction.merge(train_ident, on='TransactionID', how='left')\n",
    "test = test_transaction.merge(test_ident, on='TransactionID', how='left')\n",
    "# Sampling 10% of the data to run our analysis on \n",
    "#Seed of sample is 120  we should use theat for the rest  of the proj\n",
    "train_sample = train.sample(frac = 0.1, random_state = 120)\n",
    "test_sample = test.sample(frac = 0.1, random_state=120)"
   ]
  },
  {
   "cell_type": "code",
   "execution_count": 38,
   "metadata": {},
   "outputs": [
    {
     "name": "stdout",
     "output_type": "stream",
     "text": [
      "0.03499000914417313\n",
      "0.035213\n",
      "3.4923631e-05\n"
     ]
    },
    {
     "data": {
      "image/png": "[encoded data removed]",
      "text/plain": [
       "<Figure size 432x288 with 1 Axes>"
      ]
     },
     "metadata": {
      "needs_background": "light"
     },
     "output_type": "display_data"
    }
   ],
   "source": [
    "np.random.seed(120)\n",
    "\n",
    "propFraud = train['isFraud'].mean()\n",
    "print(propFraud)\n",
    "\n",
    "#constructing a sampling distribution.\n",
    "p = propFraud\n",
    "n = 1000 \n",
    "#gen 1k samples of size 1000\n",
    "samples = np.random.binomial(n,p, 1000)\n",
    "sample_props = samples/n\n",
    "\n",
    "plt.hist(sample_props, bins=50, density=True, alpha=0.5, label='Sampling Distribution')\n",
    "mu = np.mean(sample_props)\n",
    "print(mu)\n",
    "var = np.var(sample_props)\n",
    "print(var)\n",
    "sigma = np.std(sample_props)\n",
    "\n",
    "x = np.linspace(0, 0.28, 1000)\n",
    "norm = sci.norm.pdf(x, loc=mu, scale=sigma)\n",
    "\n",
    "plt.axis([0, .06, 0, 120])\n",
    "plt.axvline(x=mu, color='r')\n",
    "plt.plot(x, norm, label='Normal Distribution')\n",
    "plt.xlabel('Proportion')\n",
    "plt.ylabel('Density')\n",
    "plt.legend()\n",
    "plt.show()"
   ]
  },
  {
   "attachments": {},
   "cell_type": "markdown",
   "metadata": {},
   "source": [
    "<font size= 3, style=\"text-align:justify\">\n",
    "     \n",
    "$$\\text{Let } F := \\text{A transaction is fraudelent}$$\n",
    "\n",
    "&nbsp;&nbsp;&nbsp;&nbsp;&nbsp;&nbsp;Our response varaible is the value of the \"isFraud\" within the data set, in order to find the distribution of our response varaible we first calculated the proportion of fraudelent transactions to non fraudlent ones which a approximate value of 3.499%, we then construct a sampling distribution using a binomial random variable using the previously calculated proportion, and then finally ploted the randomly generated samples and compare it to a normal distribution centered at the mean of sampled proporitions, with standard deviation. Comparing the simulated values to the normal distribution then gives the final result that, $F \\sim\\text{Normal(\\mu = 0.35213, \\sigma^2 = 3.4923631 \\cdot 10^{-5})}$ by the central limit theorm. Some of the clear implications of finding is that likelyhood of fraud is not common outcome of a transaction. Reflecting from the the finicial sector context this is plausible the overall proporition of fraudelent transactions, is signicantly lower then the proporition authorized ones. \n",
    " \n",
    " </font>"
   ]
  },
  {
   "cell_type": "code",
   "execution_count": 6,
   "metadata": {
    "collapsed": false,
    "jupyter": {
     "outputs_hidden": false
    }
   },
   "outputs": [],
   "source": [
    "train_corr = train_sample.corr()"
   ]
  },
  {
   "cell_type": "code",
   "execution_count": 7,
   "metadata": {},
   "outputs": [
    {
     "data": {
      "text/plain": [
       "{('C1', 'C2'): 0.9960255814335263,\n",
       " ('C1', 'C4'): 0.9720331304828849,\n",
       " ('C1', 'C6'): 0.9837587217717109,\n",
       " ('C1', 'C7'): 0.9379304598092051,\n",
       " ('C1', 'C8'): 0.9726319845008362,\n",
       " ('C1', 'C10'): 0.9649521721724863,\n",
       " ('C1', 'C11'): 0.9970126813477574,\n",
       " ('C1', 'C12'): 0.9393597650111772,\n",
       " ('C1', 'C13'): 0.7926063809278694,\n",
       " ('C1', 'C14'): 0.9559284351187977}"
      ]
     },
     "execution_count": 7,
     "metadata": {},
     "output_type": "execute_result"
    }
   ],
   "source": [
    "# Extract the correlations as a DataFrame\n",
    "abscorr = train_corr.abs()\n",
    "# Filter the DataFrame to show only correlations greater than 0.7 and not equal to 1\n",
    "high_corr = abscorr[(abscorr > 0.7) & (abscorr != 1)]\n",
    "# Print the high correlation pairs\n",
    "high_corr_dict = (high_corr.stack().drop_duplicates()).to_dict()\n",
    "#high_corr_dict.keys()\n",
    "corrs = {k:v for k, v in high_corr_dict.items() if 'C1' in k}\n",
    "corrs"
   ]
  },
  {
   "cell_type": "code",
   "execution_count": null,
   "metadata": {},
   "outputs": [],
   "source": []
  },
  {
   "cell_type": "markdown",
   "metadata": {},
   "source": []
  },
  {
   "cell_type": "code",
   "execution_count": 8,
   "metadata": {},
   "outputs": [
    {
     "ename": "NameError",
     "evalue": "name 'column_names' is not defined",
     "output_type": "error",
     "traceback": [
      "\u001b[1;31m---------------------------------------------------------------------------\u001b[0m",
      "\u001b[1;31mNameError\u001b[0m                                 Traceback (most recent call last)",
      "\u001b[1;32m<ipython-input-8-ca39a5a7c9fb>\u001b[0m in \u001b[0;36m<module>\u001b[1;34m\u001b[0m\n\u001b[1;32m----> 1\u001b[1;33m \u001b[0mlen\u001b[0m\u001b[1;33m(\u001b[0m\u001b[0mcolumn_names\u001b[0m\u001b[1;33m)\u001b[0m\u001b[1;33m\u001b[0m\u001b[1;33m\u001b[0m\u001b[0m\n\u001b[0m",
      "\u001b[1;31mNameError\u001b[0m: name 'column_names' is not defined"
     ]
    }
   ],
   "source": []
  },
  {
   "cell_type": "code",
   "execution_count": null,
   "metadata": {},
   "outputs": [],
   "source": []
  }
 ],
 "metadata": {
  "kernelspec": {
   "display_name": "Python 3 (ipykernel)",
   "language": "python",
   "name": "python3"
  },
  "language_info": {
   "codemirror_mode": {
    "name": "ipython",
    "version": 3
   },
   "file_extension": ".py",
   "mimetype": "text/x-python",
   "name": "python",
   "nbconvert_exporter": "python",
   "pygments_lexer": "ipython3",
   "version": "3.8.8"
  }
 },
 "nbformat": 4,
 "nbformat_minor": 4
}
